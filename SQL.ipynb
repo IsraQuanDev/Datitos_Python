{
 "cells": [
  {
   "attachments": {},
   "cell_type": "markdown",
   "metadata": {},
   "source": [
    "### SQL\n",
    "* Utilizan: Microsoft SQL server, MySQL, MariaDB y Oracle\n",
    "* Instrucciones básicas: \n",
    "* - SELECT, INSERT, UPDATE, DELETE\n",
    "* - SQL server, Azure SQL Database, Azure Synapse Analytics usan --> Transact-SQL o T-SQL\n",
    "* SQL: Es declarativo"
   ]
  },
  {
   "attachments": {},
   "cell_type": "markdown",
   "metadata": {},
   "source": [
    "* Cada tabla es una entidad\n",
    "* Atributos: se definen en columnas\n",
    "* Instancia: es cada fila\n",
    "* Las tablas se relacionan mediante columnas de clave\n",
    "* Clave principal: para cada tabla\n",
    "* Clave externa: referencia a la tabla\n",
    "* Las tablase se crean en esquemas"
   ]
  },
  {
   "attachments": {},
   "cell_type": "markdown",
   "metadata": {},
   "source": [
    "SELECT OrderDate, COUNT(OrderID) AS Orders\n",
    "\n",
    "FROM Sales.SalesOrder\n",
    "\n",
    "WHERE Status = 'Shipped'\n",
    "\n",
    "GROUP BY OrderDate\n",
    "\n",
    "HAVING COUNT(OrderID) > 1\n",
    "\n",
    "ORDER BY OrderDate DESC;"
   ]
  },
  {
   "cell_type": "code",
   "execution_count": null,
   "metadata": {
    "vscode": {
     "languageId": "plaintext"
    }
   },
   "outputs": [],
   "source": [
    " "
   ]
  }
 ],
 "metadata": {
  "language_info": {
   "name": "python"
  },
  "orig_nbformat": 4
 },
 "nbformat": 4,
 "nbformat_minor": 2
}
